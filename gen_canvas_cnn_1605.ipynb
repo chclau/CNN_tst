{
  "nbformat": 4,
  "nbformat_minor": 0,
  "metadata": {
    "colab": {
      "name": "gen_canvas_cnn2",
      "version": "0.3.2",
      "provenance": [],
      "collapsed_sections": [],
      "include_colab_link": true
    },
    "kernelspec": {
      "name": "python3",
      "display_name": "Python 3"
    }
  },
  "cells": [
    {
      "cell_type": "markdown",
      "metadata": {
        "id": "view-in-github",
        "colab_type": "text"
      },
      "source": [
        "<a href=\"https://colab.research.google.com/github/chclau/CNN_tst/blob/master/gen_canvas_cnn_1605.ipynb\" target=\"_parent\"><img src=\"https://colab.research.google.com/assets/colab-badge.svg\" alt=\"Open In Colab\"/></a>"
      ]
    },
    {
      "cell_type": "code",
      "metadata": {
        "id": "DmF80RHzt6u6",
        "colab_type": "code",
        "colab": {}
      },
      "source": [
        "# Initialization\n",
        "import numpy as np\n",
        "import matplotlib.pyplot as plt\n",
        "import cv2\n",
        "from scipy.ndimage import gaussian_filter\n",
        "np.random.seed(seed=1)"
      ],
      "execution_count": 0,
      "outputs": []
    },
    {
      "cell_type": "code",
      "metadata": {
        "id": "TWwT12Bgulk9",
        "colab_type": "code",
        "colab": {}
      },
      "source": [
        "# Init canvas\n",
        "scale    = 2;\n",
        "num_img  = 10000;\n",
        "num_val  = np.int16(num_img/5);\n",
        "num_tst  = num_val;\n",
        "img_cols = np.int16(384/scale);\n",
        "img_rows = np.int16(136/scale);\n",
        "man_img  = 10;\n",
        "fg = 70;     # foreground gray level\n",
        "bg = 140;    # background gray level\n",
        "tot_img   = num_img + num_val + num_tst;\n",
        "canvas    = np.full((tot_img, img_rows, img_cols), bg);\n",
        "canvas_f  = np.zeros((tot_img, img_rows, img_cols));\n",
        "canvas_lbl = np.zeros((tot_img));\n",
        "canvas_contour = np.zeros((tot_img, img_rows, img_cols));\n",
        "canvas_man = np.zeros((man_img, img_rows, img_cols))"
      ],
      "execution_count": 0,
      "outputs": []
    },
    {
      "cell_type": "code",
      "metadata": {
        "id": "dFDk6ylavFzr",
        "colab_type": "code",
        "colab": {}
      },
      "source": [
        "# Generate pictures\n",
        "\n",
        "line_rows   = img_rows/30\n",
        "offset_rows = img_rows/30\n",
        "line_cols   = img_cols/40\n",
        "offset_cols = img_cols/40\n",
        "\n",
        "for k in range(tot_img):\n",
        "\n",
        "  # Top horiz. line\n",
        "  line1_rows = np.int16(line_rows * (1 + np.random.random_sample()/5) )\n",
        "  line1_irow = np.int16(offset_rows * (1 + np.random.random_sample()/5) )\n",
        "  line1_icol = np.int16(offset_cols * (1 + np.random.random_sample()/5) ) \n",
        "  line1_cols = np.int16(img_cols - line_cols * (1 + np.random.random_sample()/5) - 2 * offset_cols) \n",
        "\n",
        "  for i in range(line1_rows):\n",
        "    for j in range (line1_cols):\n",
        "      canvas[k, line1_irow+i, line1_icol+j] = fg;\n",
        "      \n",
        "  # Top rectangle\n",
        "  line_sq_rows = np.int16(line_rows * 4 * (1 + np.random.random_sample()/6) )\n",
        "  line_sq_cols = np.int16(line_cols * 6 * (1 + np.random.random_sample()/8) )\n",
        "  line_sq_icol = np.int16((line1_cols-line_sq_cols)/2) + line1_icol\n",
        "  line_sq_irow = np.int16(line1_irow + line_rows - 1);\n",
        "\n",
        "  for i in range(line_sq_rows):\n",
        "    for j in range (line_sq_cols):\n",
        "      canvas[k, line_sq_irow+i, line_sq_icol+j] = fg;\n",
        "\n",
        "  # Bottom horiz. line\n",
        "  line2_rows = np.int16(line_rows * (1 + np.random.random_sample()/5) )\n",
        "  line2_irow = np.int16(img_rows - line_rows * (1 + np.random.random_sample()/5) - 2 * offset_rows)\n",
        "  line2_icol = line1_icol\n",
        "  line2_cols = line1_cols\n",
        "  #print(line2_irow, line2_icol)\n",
        "\n",
        "  for i in range(line2_rows):\n",
        "    for j in range (line2_cols):\n",
        "      canvas[k, line2_irow+i, line2_icol+j] = fg;\n",
        "\n",
        "  # Left line\n",
        "  line3_cols = np.int16(line_cols * (1 + np.random.random_sample()/5) )\n",
        "  line3_rows = np.int16(img_rows * 1/2 + line_rows * np.random.random_sample() )\n",
        "  line3_irow = line1_irow\n",
        "  line3_icol = line1_icol\n",
        "\n",
        "  for i in range(line3_rows):\n",
        "    for j in range (line3_cols):\n",
        "      canvas[k, line3_irow+i, line3_icol+j] = fg;\n",
        "\n",
        "  # Right line\n",
        "  line4_cols = np.int16(line_cols * (1 + np.random.random_sample()/5) )\n",
        "  line4_rows = np.int16(img_rows * 1/2 + line_rows * np.random.random_sample() )\n",
        "  line4_irow = line1_irow\n",
        "  line4_icol = line2_icol+line2_cols-line4_cols\n",
        "\n",
        "  for i in range(line4_rows):\n",
        "    for j in range (line4_cols):\n",
        "      canvas[k, line4_irow+i, line4_icol+j] = fg;  \n",
        "      \n",
        "  # Left triangle\n",
        "  ltr_rows = np.int16(img_rows * 1/5 + line_rows * np.random.random_sample() )\n",
        "  ltr_irow = line3_irow + line3_rows - 1\n",
        "  ltr_icol = line3_icol\n",
        "  ltr_cols = ltr_icol + line3_cols\n",
        "  \n",
        "  for i in range(ltr_rows):\n",
        "    j = ltr_icol\n",
        "    while (j < ltr_cols):\n",
        "      canvas[k, ltr_irow+i, j] = fg;\n",
        "      j = j + 1;\n",
        "    ltr_cols = ltr_cols + line_cols / 10\n",
        " \n",
        "  # Rigth triangle\n",
        "  rtr_rows = np.int16(img_rows * 1/5 + line_rows * np.random.random_sample() )\n",
        "  rtr_irow = line4_irow + line4_rows - 1\n",
        "  rtr_icol = line4_icol\n",
        "  rtr_cols = rtr_icol + line4_cols \n",
        "  \n",
        "  for i in range(rtr_rows):\n",
        "    j = rtr_cols\n",
        "    while (j > rtr_icol):\n",
        "      canvas[k, rtr_irow+i, j] = fg;\n",
        "      j = j - 1;\n",
        "    rtr_icol = rtr_icol - line_cols / 10\n",
        "  \n",
        "  \n",
        "  # Bottom left rectangle\n",
        "  lsq_rows = np.int16(line_rows * 2.5 * (1 + np.random.random_sample()/5) )\n",
        "  lsq_cols = np.int16(line_rows * 3.3 * (1 + np.random.random_sample()/5) )\n",
        "  lsq_irow = line2_irow\n",
        "  lsq_icol = line2_icol\n",
        "  \n",
        "  i = lsq_irow\n",
        "  j = lsq_rows\n",
        "  while (j > 0):\n",
        "    for m in range (lsq_cols):\n",
        "      canvas[k, i-j, lsq_icol + m] = fg;\n",
        "    j = j-1;\n",
        "\n",
        "  # Bottom right rectangle\n",
        "  rsq_rows = np.int16(line_rows * 1.8 * (1 + np.random.random_sample()/5) )\n",
        "  rsq_cols = np.int16(line_rows * 4.2 * (1 + np.random.random_sample()/5) )\n",
        "  rsq_irow = line2_irow\n",
        "  rsq_icol = line2_icol+line2_cols-rsq_cols\n",
        "  \n",
        "  i = rsq_irow\n",
        "  j = rsq_rows\n",
        "  while (j > 0):\n",
        "    for m in range (rsq_cols):\n",
        "      canvas[k, i-j, rsq_icol + m] = fg;\n",
        "    j = j-1;\n",
        "    \n",
        "  # Calculate contour to add faults\n",
        "  im = np.array(canvas[k], dtype = np.uint8)\n",
        "  canvas_contour[k] = cv2.Canny(im, fg, bg)\n",
        "  \n",
        "  # Generate clean pictures for manual examples\n",
        "  for k in range(man_img):\n",
        "    canvas_man[k] = canvas[k]\n",
        "  "
      ],
      "execution_count": 0,
      "outputs": []
    },
    {
      "cell_type": "code",
      "metadata": {
        "id": "IxgkC4w_Qtes",
        "colab_type": "code",
        "colab": {}
      },
      "source": [
        "# Add faults\n",
        "for k in range(tot_img):\n",
        "  decision = np.random.random_sample()\n",
        "  if decision < 0.33:\n",
        "    \n",
        "    # Add excess rectangle\n",
        "    found = 0;\n",
        "    canvas_lbl[k] = 1;\n",
        "    while (found == 0):\n",
        "      row = np.int16(img_rows * np.random.random_sample())\n",
        "      col = np.int16(img_cols * np.random.random_sample())\n",
        "      \n",
        "      if (canvas_contour[k, row, col] !=0):\n",
        "        found = 1\n",
        "        row = row - 2\n",
        "        col = col - 4\n",
        "        fault_rows = np.int16(line_rows * 2.2 * (1 + np.random.random_sample()/5) )\n",
        "        fault_cols = np.int16(line_cols * 2.2 * (1 + np.random.random_sample()/5) )\n",
        "        for i in range(fault_rows):\n",
        "          for j in range (fault_cols):\n",
        "            if ((row+i) < img_rows) and ((col+j) < img_cols):\n",
        "              canvas[k, row+i, col+j] = fg;\n",
        "  elif decision < 0.66:\n",
        "    \n",
        "    # Add defect rectangle\n",
        "    found = 0;\n",
        "    canvas_lbl[k] = 2;\n",
        "    while (found == 0):\n",
        "      row = np.int16(img_rows * np.random.random_sample())\n",
        "      col = np.int16(img_cols * np.random.random_sample())\n",
        "      \n",
        "      if (canvas_contour[k, row, col] !=0):\n",
        "        found = 1\n",
        "        row = row - 2\n",
        "        col = col - 4\n",
        "        fault_rows = np.int16(line_rows * 2.2 * (1 + np.random.random_sample()/5) )\n",
        "        fault_cols = np.int16(line_cols * 2.2 * (1 + np.random.random_sample()/5) )\n",
        "        for i in range(fault_rows):\n",
        "          for j in range (fault_cols):\n",
        "            if ((row+i) < img_rows) and ((col+j) < img_cols):\n",
        "              canvas[k, row+i, col+j] = bg;\n",
        "  else:\n",
        "    canvas_lbl[k] = 0;\n",
        "  \n",
        "      \n"
      ],
      "execution_count": 0,
      "outputs": []
    },
    {
      "cell_type": "code",
      "metadata": {
        "id": "Xsqs6fF4Xgd-",
        "colab_type": "code",
        "colab": {}
      },
      "source": [
        "# Filter pictures\n",
        "for k in range(tot_img):\n",
        "  canvas_f[k] = gaussian_filter(canvas[k], sigma=0.7)\n"
      ],
      "execution_count": 0,
      "outputs": []
    },
    {
      "cell_type": "code",
      "metadata": {
        "id": "22av_n0anKC8",
        "colab_type": "code",
        "outputId": "9bb2a45e-5e28-42dd-83ad-249cf52ed953",
        "colab": {
          "base_uri": "https://localhost:8080/",
          "height": 170
        }
      },
      "source": [
        "plt.imshow(canvas_f[1], cmap='gray', vmin=0, vmax=255)\n",
        "plt.show()"
      ],
      "execution_count": 37,
      "outputs": [
        {
          "output_type": "display_data",
          "data": {
            "image/png": "[encoded data removed]",
            "text/plain": [
              "<Figure size 432x288 with 1 Axes>"
            ]
          },
          "metadata": {
            "tags": []
          }
        }
      ]
    },
    {
      "cell_type": "code",
      "metadata": {
        "id": "1GoeSPAFMdwf",
        "colab_type": "code",
        "colab": {}
      },
      "source": [
        "# Model\n",
        "from keras import models\n",
        "from keras import layers\n",
        "network = models.Sequential()\n",
        "network.add(layers.Conv2D(32, (3,3), activation='relu', input_shape=(img_rows, img_cols, 1)))\n",
        "network.add(layers.MaxPooling2D((2,2)))\n",
        "network.add(layers.Conv2D(32, (3,3), activation='relu'))\n",
        "network.add(layers.MaxPooling2D((2,2)))\n",
        "network.add(layers.Flatten())\n",
        "network.add(layers.Dense(64, activation='relu'))\n",
        "network.add(layers.Dense(3,  activation='softmax'))\n",
        "network.compile(optimizer='adam', \n",
        "              loss='categorical_crossentropy',\n",
        "              metrics=['accuracy'])"
      ],
      "execution_count": 0,
      "outputs": []
    },
    {
      "cell_type": "code",
      "metadata": {
        "id": "_9t_f6KsMw7g",
        "colab_type": "code",
        "outputId": "53deb126-efc0-4a9c-e200-543bad8c892d",
        "colab": {
          "base_uri": "https://localhost:8080/",
          "height": 578
        }
      },
      "source": [
        "# Fit\n",
        "from keras.utils import to_categorical\n",
        "canvas_images = canvas_f[:num_img].reshape((num_img, img_rows, img_cols, 1))\n",
        "old_max = np.amax(canvas)\n",
        "old_min = np.amin(canvas)\n",
        "canvas_images = (canvas_images.astype('float32') - old_min) * 2 / (old_max - old_min) - 1;  # Training data normalization\n",
        "categ_labels = to_categorical(canvas_lbl[:num_img])\n",
        "canvas_val   = canvas_f[num_img:num_img+num_val].reshape((num_val, img_rows, img_cols, 1))\n",
        "canvas_val = (canvas_val.astype('float32') - old_min) * 2 / (old_max - old_min) - 1;        # Validation data normalization\n",
        "lbl_val = to_categorical(canvas_lbl[num_img:num_img+num_val])\n",
        "history = network.fit(canvas_images, categ_labels, epochs=16, batch_size=80, validation_data=(canvas_val, lbl_val))\n"
      ],
      "execution_count": 40,
      "outputs": [
        {
          "output_type": "stream",
          "text": [
            "Train on 10000 samples, validate on 2000 samples\n",
            "Epoch 1/16\n",
            "10000/10000 [==============================] - 175s 18ms/step - loss: 1.1004 - acc: 0.3654 - val_loss: 1.0276 - val_acc: 0.3550\n",
            "Epoch 2/16\n",
            "10000/10000 [==============================] - 174s 17ms/step - loss: 0.8208 - acc: 0.5808 - val_loss: 0.6822 - val_acc: 0.5735\n",
            "Epoch 3/16\n",
            "10000/10000 [==============================] - 174s 17ms/step - loss: 0.5559 - acc: 0.7436 - val_loss: 0.4865 - val_acc: 0.7730\n",
            "Epoch 4/16\n",
            "10000/10000 [==============================] - 176s 18ms/step - loss: 0.4131 - acc: 0.8196 - val_loss: 0.3379 - val_acc: 0.8395\n",
            "Epoch 5/16\n",
            "10000/10000 [==============================] - 174s 17ms/step - loss: 0.3223 - acc: 0.8733 - val_loss: 0.2326 - val_acc: 0.9060\n",
            "Epoch 6/16\n",
            "10000/10000 [==============================] - 174s 17ms/step - loss: 0.1820 - acc: 0.9538 - val_loss: 0.1078 - val_acc: 0.9745\n",
            "Epoch 7/16\n",
            "10000/10000 [==============================] - 174s 17ms/step - loss: 0.1082 - acc: 0.9732 - val_loss: 0.0644 - val_acc: 0.9890\n",
            "Epoch 8/16\n",
            "10000/10000 [==============================] - 175s 17ms/step - loss: 0.0695 - acc: 0.9846 - val_loss: 0.0690 - val_acc: 0.9830\n",
            "Epoch 9/16\n",
            "10000/10000 [==============================] - 175s 18ms/step - loss: 0.0757 - acc: 0.9808 - val_loss: 0.0546 - val_acc: 0.9920\n",
            "Epoch 10/16\n",
            "10000/10000 [==============================] - 173s 17ms/step - loss: 0.0588 - acc: 0.9862 - val_loss: 0.0401 - val_acc: 0.9910\n",
            "Epoch 11/16\n",
            "10000/10000 [==============================] - 174s 17ms/step - loss: 0.0452 - acc: 0.9896 - val_loss: 0.0450 - val_acc: 0.9940\n",
            "Epoch 12/16\n",
            "10000/10000 [==============================] - 174s 17ms/step - loss: 0.0420 - acc: 0.9903 - val_loss: 0.0691 - val_acc: 0.9825\n",
            "Epoch 13/16\n",
            "10000/10000 [==============================] - 174s 17ms/step - loss: 0.0469 - acc: 0.9886 - val_loss: 0.0475 - val_acc: 0.9915\n",
            "Epoch 14/16\n",
            "10000/10000 [==============================] - 174s 17ms/step - loss: 0.0976 - acc: 0.9702 - val_loss: 0.0354 - val_acc: 0.9945\n",
            "Epoch 15/16\n",
            "10000/10000 [==============================] - 175s 17ms/step - loss: 0.0377 - acc: 0.9908 - val_loss: 0.0302 - val_acc: 0.9905\n",
            "Epoch 16/16\n",
            "10000/10000 [==============================] - 174s 17ms/step - loss: 0.0385 - acc: 0.9909 - val_loss: 0.0264 - val_acc: 0.9945\n"
          ],
          "name": "stdout"
        }
      ]
    },
    {
      "cell_type": "code",
      "metadata": {
        "id": "yHWv9xXAmXrR",
        "colab_type": "code",
        "outputId": "86a4738f-9ce6-460b-d40a-c11e982028bd",
        "colab": {
          "base_uri": "https://localhost:8080/",
          "height": 51
        }
      },
      "source": [
        "# Evaluate results with test array\n",
        "canvas_tst = canvas_f[-num_tst:].reshape((num_tst, img_rows, img_cols, 1))\n",
        "canvas_tst = (canvas_tst.astype('float32') - old_min) * 2 / (old_max - old_min) - 1\n",
        "categ_tst = to_categorical(canvas_lbl[-num_tst:])\n",
        "network.evaluate(canvas_tst, categ_tst)"
      ],
      "execution_count": 41,
      "outputs": [
        {
          "output_type": "stream",
          "text": [
            "2000/2000 [==============================] - 9s 4ms/step\n"
          ],
          "name": "stdout"
        },
        {
          "output_type": "execute_result",
          "data": {
            "text/plain": [
              "[0.034815044917166235, 0.992]"
            ]
          },
          "metadata": {
            "tags": []
          },
          "execution_count": 41
        }
      ]
    },
    {
      "cell_type": "code",
      "metadata": {
        "id": "-puMoSBAhcq-",
        "colab_type": "code",
        "outputId": "4d7ad834-cac1-483d-a72d-8c252d568c9e",
        "colab": {
          "base_uri": "https://localhost:8080/",
          "height": 34
        }
      },
      "source": [
        "# Predict single result\n",
        "pred = (canvas_f[13012].astype('float32') - old_min) * 2 / (old_max - old_min) - 1\n",
        "\n",
        "network.predict(pred.reshape((1, img_rows, img_cols, 1)))"
      ],
      "execution_count": 47,
      "outputs": [
        {
          "output_type": "execute_result",
          "data": {
            "text/plain": [
              "array([[3.210290e-06, 9.999968e-01, 4.290828e-13]], dtype=float32)"
            ]
          },
          "metadata": {
            "tags": []
          },
          "execution_count": 47
        }
      ]
    },
    {
      "cell_type": "code",
      "metadata": {
        "id": "KOWXvIi9zrxp",
        "colab_type": "code",
        "outputId": "ea3d2e96-1985-434c-f5e1-9dc699ead94a",
        "colab": {
          "base_uri": "https://localhost:8080/",
          "height": 34
        }
      },
      "source": [
        "canvas_lbl[13010:13020]"
      ],
      "execution_count": 45,
      "outputs": [
        {
          "output_type": "execute_result",
          "data": {
            "text/plain": [
              "array([0., 2., 1., 2., 2., 0., 1., 2., 0., 0.])"
            ]
          },
          "metadata": {
            "tags": []
          },
          "execution_count": 45
        }
      ]
    },
    {
      "cell_type": "code",
      "metadata": {
        "id": "CJn1Vmf30Zy3",
        "colab_type": "code",
        "colab": {}
      },
      "source": [
        "# Build manual samples with holes\n",
        "\n"
      ],
      "execution_count": 0,
      "outputs": []
    }
  ]
}